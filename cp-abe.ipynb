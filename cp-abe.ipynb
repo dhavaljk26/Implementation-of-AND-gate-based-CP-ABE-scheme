{
 "cells": [
  {
   "cell_type": "code",
   "execution_count": 83,
   "metadata": {},
   "outputs": [],
   "source": [
    "import math\n",
    "import random\n",
    "import hashlib"
   ]
  },
  {
   "cell_type": "code",
   "execution_count": 84,
   "metadata": {},
   "outputs": [],
   "source": [
    "numAttributes = 3\n",
    "\n",
    "RHO = 8\n",
    "KEY_LEN = 8\n",
    "\n",
    "MAX_BITS = 8"
   ]
  },
  {
   "cell_type": "code",
   "execution_count": 85,
   "metadata": {},
   "outputs": [],
   "source": [
    "#Function to check if a number is prime\n",
    "def isPrime(n):\n",
    "    if n == 2:\n",
    "        return True\n",
    "    \n",
    "    if n%2 == 0:\n",
    "        return False\n",
    "    \n",
    "    for i in range(3, math.ceil(math.sqrt(n))+1, 2):\n",
    "        if n%i == 0:\n",
    "            return False\n",
    "        \n",
    "    return True    "
   ]
  },
  {
   "cell_type": "code",
   "execution_count": 86,
   "metadata": {},
   "outputs": [],
   "source": [
    "#Function to generate a random prime number of rho bits\n",
    "def generatePrime(len=MAX_BITS):\n",
    "    \n",
    "    temp = random.getrandbits(len)\n",
    "    \n",
    "    if len != MAX_BITS:\n",
    "        temp = temp | (1<<(len-1)) \n",
    "    temp |= 1\n",
    "    \n",
    "    while not isPrime(temp):\n",
    "        temp = random.getrandbits(len)\n",
    "        if len != MAX_BITS: \n",
    "            temp = temp | (1<<(len-1)) \n",
    "        temp |= 1\n",
    "    \n",
    "    return temp"
   ]
  },
  {
   "cell_type": "code",
   "execution_count": 87,
   "metadata": {},
   "outputs": [],
   "source": [
    "#Function to find gcd of 'a' and 'b' by Euclid's algorithm\n",
    "def euclidGcd(a, b):\n",
    "    if a == 0:\n",
    "        return (b, 0, 1)\n",
    "    else:\n",
    "        g, y, x = euclidGcd(b % a, a)\n",
    "        return (g, x - (b // a) * y, y)"
   ]
  },
  {
   "cell_type": "code",
   "execution_count": 88,
   "metadata": {},
   "outputs": [],
   "source": [
    "#Function to find multiplicative inverse of 'a' modulo 'm'\n",
    "def moduloInverse(a, m):\n",
    "    g, x, y = euclidGcd(a, m)\n",
    "    if g != 1:\n",
    "        raise Exception('modulo inverse does not exist')\n",
    "    else:\n",
    "        return x % m"
   ]
  },
  {
   "cell_type": "code",
   "execution_count": 89,
   "metadata": {},
   "outputs": [],
   "source": [
    "#Function to check if 'k' is coprime with all elements of array 'arr' \n",
    "def checkCoprimality(k, arr):\n",
    "    for i in range(len(arr)):\n",
    "        if math.gcd(k, arr[i]) != 1:\n",
    "            return False\n",
    "    return True  "
   ]
  },
  {
   "cell_type": "code",
   "execution_count": 90,
   "metadata": {},
   "outputs": [],
   "source": [
    "#Function to calaculate 'a' power 'b' modulo 'n'\n",
    "def powerModN(a, b, n):\n",
    "    if b == 0:\n",
    "        return 1\n",
    "    \n",
    "    temp = powerModN(a, b//2, n)\n",
    "    temp = (temp*temp) % n\n",
    "    if b%2:\n",
    "        temp = (temp*a) %n\n",
    "        \n",
    "    return temp    "
   ]
  },
  {
   "cell_type": "code",
   "execution_count": 91,
   "metadata": {},
   "outputs": [],
   "source": [
    "#Function to compute one-way hash of given message 'M', with output of length 'len' bits\n",
    "def onewayhash(message, len):\n",
    "    \n",
    "    message = str(message).encode('utf-8')\n",
    "    hash_object = hashlib.sha1(message)\n",
    "    hex_digest = hash_object.hexdigest()\n",
    "    digest = 0   \n",
    "    index = 1\n",
    "    \n",
    "    for c in reversed(hex_digest):\n",
    "        temp = int (c, 16)        \n",
    "        if len < 4:\n",
    "            temp &= ( (1<<(len)) - 1)\n",
    "            digest += temp * index\n",
    "            break\n",
    "            \n",
    "        digest += temp * index\n",
    "        index *= 16\n",
    "        len -= 4    \n",
    "    \n",
    "    return digest"
   ]
  },
  {
   "cell_type": "code",
   "execution_count": 92,
   "metadata": {},
   "outputs": [],
   "source": [
    "### Setup phase ###\n",
    "\n",
    "p = generatePrime(RHO)\n",
    "q = generatePrime(RHO)\n",
    "\n",
    "while p == q:\n",
    "    q = generatePrime(RHO)\n",
    "    \n",
    "N = p*q\n",
    "\n",
    "phiN = (p-1)*(q-1)"
   ]
  },
  {
   "cell_type": "code",
   "execution_count": 93,
   "metadata": {},
   "outputs": [],
   "source": [
    "pi = list()\n",
    "qi = list()\n",
    "\n",
    "for i in range(0, numAttributes):\n",
    "    temp = generatePrime()\n",
    "    \n",
    "    while math.gcd(temp, phiN) != 1:\n",
    "        temp = generatePrime()\n",
    "\n",
    "    pi.append(temp)    \n",
    "    qi.append(moduloInverse(pi[i], phiN))"
   ]
  },
  {
   "cell_type": "code",
   "execution_count": 100,
   "metadata": {},
   "outputs": [],
   "source": [
    "k = random.getrandbits(MAX_BITS)\n",
    "\n",
    "while math.gcd(k, phiN) != 1 or checkCoprimality(k, qi) == False:\n",
    "    k = random.getrandbits(MAX_BITS)\n",
    "    \n",
    "x = random.getrandbits(MAX_BITS)\n",
    "\n",
    "while checkCoprimality(x, qi) == False:\n",
    "    x = random.getrandbits(MAX_BITS)    "
   ]
  },
  {
   "cell_type": "code",
   "execution_count": 101,
   "metadata": {},
   "outputs": [],
   "source": [
    "g = random.randint(3, N-2)\n",
    "    \n",
    "while math.gcd(temp, N) != 1:\n",
    "    temp = random.randint(3, N-2)"
   ]
  },
  {
   "cell_type": "code",
   "execution_count": 102,
   "metadata": {},
   "outputs": [],
   "source": [
    "dU = 1\n",
    "for i in range(len(qi)):\n",
    "    dU *= qi[i]\n",
    "\n",
    "DU = powerModN(g, dU, N)\n",
    "Y  = powerModN(g,  x, N)\n",
    "R  = powerModN(g,  k, N)"
   ]
  },
  {
   "cell_type": "code",
   "execution_count": 132,
   "metadata": {},
   "outputs": [],
   "source": [
    "### Encryption phase ###\n",
    "\n",
    "sigmaM = str(random.getrandbits(KEY_LEN))\n",
    "P = str('010')\n",
    "M = str('156381227')\n",
    "\n",
    "len_H1 = RHO\n",
    "len_H2 = len(sigmaM)\n",
    "len_H3 = len(M)\n",
    "\n",
    "dP = 1 #doubtful\n",
    "for i, c in enumerate(P):\n",
    "    if c == '1':\n",
    "        dP *= qi[i]\n",
    "\n",
    "rm = onewayhash(P+M+sigmaM, len_H1)\n",
    "Km = powerModN(g, rm*dP, N)\n",
    "Ym = powerModN(g, x*rm , N)\n",
    "Rm = powerModN(g, k*rm , N)\n",
    "CsigmaM = onewayhash(str(Km), len_H2) ^ int(sigmaM)\n",
    "Cm = onewayhash(sigmaM, len_H3) ^ int(M)\n",
    "Sm = onewayhash(sigmaM+M, len_H1)"
   ]
  },
  {
   "cell_type": "code",
   "execution_count": 133,
   "metadata": {},
   "outputs": [],
   "source": [
    "### Key Generation Phase ###\n",
    "\n",
    "#User 1 - attribute '001'\n",
    "\n",
    "A = str('011')\n",
    "dA = 1 #doubtful\n",
    "for i, c in enumerate(A):\n",
    "    if c == '1':\n",
    "        dA *= qi[i]\n",
    "        \n",
    "ru = random.getrandbits(MAX_BITS)%phiN\n",
    "tu = random.getrandbits(MAX_BITS)%phiN\n",
    "\n",
    "su = (((dA-(ru*x)%phiN+phiN)%phiN) * moduloInverse(k, phiN))%phiN \n",
    "\n",
    "k1 = (su + (x*tu)%phiN)%phiN \n",
    "k2 = (ru - (k*tu)%phiN + phiN)%phiN"
   ]
  },
  {
   "cell_type": "code",
   "execution_count": 136,
   "metadata": {},
   "outputs": [
    {
     "name": "stdout",
     "output_type": "stream",
     "text": [
      "Message : 156381227\n"
     ]
    }
   ],
   "source": [
    "### Decryption phase ###\n",
    "eA = 1 #doubtful\n",
    "for i, c in enumerate(A):\n",
    "    if c == '1':\n",
    "        eA *= pi[i]\n",
    "\n",
    "eP = 1 #doubtful\n",
    "for i, c in enumerate(P):\n",
    "    if c == '1':\n",
    "        eP *= pi[i]  \n",
    "        \n",
    "if eA%eP:\n",
    "    print ('Unable to decrypt')\n",
    "else:\n",
    "    Km2 = powerModN(Ym, k2, N)\n",
    "    Km2 = (Km2 * powerModN(Rm, k1, N))%N\n",
    "    Km2 = powerModN(Km2, eA/eP, N)\n",
    "    \n",
    "    sigmaM2 = onewayhash(Km2, len_H2) ^ CsigmaM\n",
    "    M2 = Cm ^ onewayhash(sigmaM2, len_H3)\n",
    "    \n",
    "    if not onewayhash(str(sigmaM2)+str(M2), len_H1) == Sm:\n",
    "        print ('Invalid signature')\n",
    "    else:    \n",
    "        print ('Message :', M2)      "
   ]
  },
  {
   "cell_type": "code",
   "execution_count": null,
   "metadata": {},
   "outputs": [],
   "source": []
  }
 ],
 "metadata": {
  "kernelspec": {
   "display_name": "Python 3",
   "language": "python",
   "name": "python3"
  },
  "language_info": {
   "codemirror_mode": {
    "name": "ipython",
    "version": 3
   },
   "file_extension": ".py",
   "mimetype": "text/x-python",
   "name": "python",
   "nbconvert_exporter": "python",
   "pygments_lexer": "ipython3",
   "version": "3.5.2"
  }
 },
 "nbformat": 4,
 "nbformat_minor": 2
}
