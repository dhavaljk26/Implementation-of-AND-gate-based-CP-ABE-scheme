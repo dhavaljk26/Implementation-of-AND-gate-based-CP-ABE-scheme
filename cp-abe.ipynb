{
 "cells": [
  {
   "cell_type": "code",
   "execution_count": 100,
   "metadata": {},
   "outputs": [],
   "source": [
    "import math\n",
    "import random"
   ]
  },
  {
   "cell_type": "code",
   "execution_count": 101,
   "metadata": {},
   "outputs": [],
   "source": [
    "def euclidGcd(a, b):\n",
    "    if a == 0:\n",
    "        return (b, 0, 1)\n",
    "    else:\n",
    "        g, y, x = euclidGcd(b % a, a)\n",
    "        return (g, x - (b // a) * y, y)\n",
    "\n",
    "def moduloInverse(a, m):\n",
    "    g, x, y = euclidGcd(a, m)\n",
    "    if g != 1:\n",
    "        raise Exception('modulo inverse does not exist')\n",
    "    else:\n",
    "        return x % m"
   ]
  },
  {
   "cell_type": "code",
   "execution_count": 102,
   "metadata": {},
   "outputs": [],
   "source": [
    "#Function to check if a nummber is prime\n",
    "def isPrime(n):\n",
    "    if n == 2:\n",
    "        return True\n",
    "    \n",
    "    if n%2 == 0:\n",
    "        return False\n",
    "    \n",
    "    for i in range(3, math.ceil(math.sqrt(n))+1, 2):\n",
    "        if n%i == 0:\n",
    "            return False\n",
    "        \n",
    "    return True    "
   ]
  },
  {
   "cell_type": "code",
   "execution_count": 103,
   "metadata": {},
   "outputs": [],
   "source": [
    "#Function to generate a random prime number of rho bits\n",
    "def generatePrime(rho=16):\n",
    "    \n",
    "    temp = random.getrandbits(rho)\n",
    "    temp = temp | (1<<(rho-1)) | 1\n",
    "    \n",
    "    while not isPrime(temp):\n",
    "        temp = random.getrandbits(rho)\n",
    "        temp = temp | (1<<(rho-1)) | 1\n",
    "    \n",
    "    return temp"
   ]
  },
  {
   "cell_type": "code",
   "execution_count": 104,
   "metadata": {},
   "outputs": [],
   "source": [
    "p = generatePrime()\n",
    "q = generatePrime()\n",
    "\n",
    "while p == q:\n",
    "    q = generatePrime()\n",
    "    \n",
    "N = p*q\n",
    "\n",
    "phiN = (p-1)*(q-1)"
   ]
  },
  {
   "cell_type": "code",
   "execution_count": 105,
   "metadata": {},
   "outputs": [],
   "source": [
    "numAttributes = 5\n",
    "pi = [None] * numAttributes\n",
    "qi = [None] * numAttributes"
   ]
  },
  {
   "cell_type": "code",
   "execution_count": 106,
   "metadata": {},
   "outputs": [
    {
     "ename": "NameError",
     "evalue": "name 'modu' is not defined",
     "output_type": "error",
     "traceback": [
      "\u001b[0;31m---------------------------------------------------------------------------\u001b[0m",
      "\u001b[0;31mNameError\u001b[0m                                 Traceback (most recent call last)",
      "\u001b[0;32m<ipython-input-106-f505e8f01472>\u001b[0m in \u001b[0;36m<module>\u001b[0;34m()\u001b[0m\n\u001b[1;32m      6\u001b[0m \u001b[0;34m\u001b[0m\u001b[0m\n\u001b[1;32m      7\u001b[0m     \u001b[0mpi\u001b[0m\u001b[0;34m[\u001b[0m\u001b[0mi\u001b[0m\u001b[0;34m]\u001b[0m \u001b[0;34m=\u001b[0m \u001b[0mtemp\u001b[0m\u001b[0;34m\u001b[0m\u001b[0m\n\u001b[0;32m----> 8\u001b[0;31m     \u001b[0mqi\u001b[0m\u001b[0;34m[\u001b[0m\u001b[0mi\u001b[0m\u001b[0;34m]\u001b[0m \u001b[0;34m=\u001b[0m \u001b[0mmodu\u001b[0m\u001b[0;34m\u001b[0m\u001b[0m\n\u001b[0m",
      "\u001b[0;31mNameError\u001b[0m: name 'modu' is not defined"
     ]
    }
   ],
   "source": [
    "for i in range(0, numAttributes):\n",
    "    temp = random.randint(2, N-1)\n",
    "    \n",
    "    while math.gcd(temp, phiN) != 1:\n",
    "        temp = random.randint(2, N-1)\n",
    "\n",
    "    pi[i] = temp  \n",
    "    qi[i] = moduloInverse(p)"
   ]
  },
  {
   "cell_type": "code",
   "execution_count": 107,
   "metadata": {},
   "outputs": [
    {
     "data": {
      "text/plain": [
       "[2362992097, None, None, None, None]"
      ]
     },
     "execution_count": 107,
     "metadata": {},
     "output_type": "execute_result"
    }
   ],
   "source": [
    "pi"
   ]
  },
  {
   "cell_type": "code",
   "execution_count": null,
   "metadata": {},
   "outputs": [],
   "source": []
  }
 ],
 "metadata": {
  "kernelspec": {
   "display_name": "Python 3",
   "language": "python",
   "name": "python3"
  },
  "language_info": {
   "codemirror_mode": {
    "name": "ipython",
    "version": 3
   },
   "file_extension": ".py",
   "mimetype": "text/x-python",
   "name": "python",
   "nbconvert_exporter": "python",
   "pygments_lexer": "ipython3",
   "version": "3.5.2"
  }
 },
 "nbformat": 4,
 "nbformat_minor": 2
}
