{
 "cells": [
  {
   "cell_type": "code",
   "execution_count": 136,
   "metadata": {},
   "outputs": [],
   "source": [
    "import math\n",
    "import random"
   ]
  },
  {
   "cell_type": "code",
   "execution_count": 137,
   "metadata": {},
   "outputs": [],
   "source": [
    "RHO = 4"
   ]
  },
  {
   "cell_type": "code",
   "execution_count": 138,
   "metadata": {},
   "outputs": [],
   "source": [
    "def euclidGcd(a, b):\n",
    "    if a == 0:\n",
    "        return (b, 0, 1)\n",
    "    else:\n",
    "        g, y, x = euclidGcd(b % a, a)\n",
    "        return (g, x - (b // a) * y, y)\n",
    "\n",
    "def moduloInverse(a, m):\n",
    "    g, x, y = euclidGcd(a, m)\n",
    "    if g != 1:\n",
    "        raise Exception('modulo inverse does not exist')\n",
    "    else:\n",
    "        return x % m"
   ]
  },
  {
   "cell_type": "code",
   "execution_count": 139,
   "metadata": {},
   "outputs": [],
   "source": [
    "#Function to check if a nummber is prime\n",
    "def isPrime(n):\n",
    "    if n == 2:\n",
    "        return True\n",
    "    \n",
    "    if n%2 == 0:\n",
    "        return False\n",
    "    \n",
    "    for i in range(3, math.ceil(math.sqrt(n))+1, 2):\n",
    "        if n%i == 0:\n",
    "            return False\n",
    "        \n",
    "    return True    "
   ]
  },
  {
   "cell_type": "code",
   "execution_count": 140,
   "metadata": {},
   "outputs": [],
   "source": [
    "#Function to generate a random prime number of rho bits\n",
    "def generatePrime(rho=RHO):\n",
    "    \n",
    "    temp = random.getrandbits(rho)\n",
    "    temp = temp | (1<<(rho-1)) | 1\n",
    "    \n",
    "    while not isPrime(temp):\n",
    "        temp = random.getrandbits(rho)\n",
    "        temp = temp | (1<<(rho-1)) | 1\n",
    "    \n",
    "    return temp"
   ]
  },
  {
   "cell_type": "code",
   "execution_count": 141,
   "metadata": {},
   "outputs": [],
   "source": [
    "p = generatePrime()\n",
    "q = generatePrime()\n",
    "\n",
    "while p == q:\n",
    "    q = generatePrime()\n",
    "    \n",
    "N = p*q\n",
    "\n",
    "phiN = (p-1)*(q-1)"
   ]
  },
  {
   "cell_type": "code",
   "execution_count": 142,
   "metadata": {},
   "outputs": [],
   "source": [
    "numAttributes = 5\n",
    "pi = [None] * numAttributes\n",
    "qi = [None] * numAttributes"
   ]
  },
  {
   "cell_type": "code",
   "execution_count": null,
   "metadata": {},
   "outputs": [],
   "source": [
    "for i in range(0, numAttributes):\n",
    "    temp = random.randint(2, N-1) #doubtful\n",
    "    \n",
    "    while math.gcd(temp, phiN) != 1:\n",
    "        temp = random.randint(2, N-1)\n",
    "\n",
    "    pi[i] = temp  \n",
    "    qi[i] = moduloInverse(pi[i], phiN)"
   ]
  },
  {
   "cell_type": "code",
   "execution_count": 144,
   "metadata": {},
   "outputs": [],
   "source": [
    "def checkCoprimality(k, arr):\n",
    "    for i in range(len(arr)):\n",
    "        if math.gcd(k, arr[i]) != 1:\n",
    "            return False\n",
    "    return True    "
   ]
  },
  {
   "cell_type": "code",
   "execution_count": 145,
   "metadata": {},
   "outputs": [],
   "source": [
    "k = random.getrandbits(RHO)\n",
    "\n",
    "while math.gcd(k, phiN) != 1 and checkCoprimality(k, qi) == False:\n",
    "    k = random.getrandbits(RHO)"
   ]
  },
  {
   "cell_type": "code",
   "execution_count": 146,
   "metadata": {},
   "outputs": [],
   "source": [
    "x = random.getrandbits(RHO)\n",
    "\n",
    "while checkCoprimality(x, qi) == False:\n",
    "    x = random.getrandbits(RHO)"
   ]
  },
  {
   "cell_type": "code",
   "execution_count": 147,
   "metadata": {},
   "outputs": [],
   "source": [
    "g = random.randint(3, N-2) #doubtful\n",
    "    \n",
    "while math.gcd(temp, N) != 1:\n",
    "    temp = random.randint(3, N-2)"
   ]
  },
  {
   "cell_type": "code",
   "execution_count": 149,
   "metadata": {},
   "outputs": [],
   "source": [
    "dU = 1\n",
    "for i in range(len(qi)):\n",
    "    dU *= qi[i]\n",
    "    "
   ]
  }
 ],
 "metadata": {
  "kernelspec": {
   "display_name": "Python 3",
   "language": "python",
   "name": "python3"
  },
  "language_info": {
   "codemirror_mode": {
    "name": "ipython",
    "version": 3
   },
   "file_extension": ".py",
   "mimetype": "text/x-python",
   "name": "python",
   "nbconvert_exporter": "python",
   "pygments_lexer": "ipython3",
   "version": "3.6.5"
  }
 },
 "nbformat": 4,
 "nbformat_minor": 2
}
