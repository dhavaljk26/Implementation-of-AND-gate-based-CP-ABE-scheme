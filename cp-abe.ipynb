{
 "cells": [
  {
   "cell_type": "code",
   "execution_count": 38,
   "metadata": {},
   "outputs": [],
   "source": [
    "import math\n",
    "import random\n",
    "import hashlib"
   ]
  },
  {
   "cell_type": "code",
   "execution_count": 25,
   "metadata": {},
   "outputs": [],
   "source": [
    "numAttributes = 3\n",
    "\n",
    "RHO = 8\n",
    "\n",
    "MAX_BITS = 8"
   ]
  },
  {
   "cell_type": "code",
   "execution_count": 26,
   "metadata": {},
   "outputs": [],
   "source": [
    "#Function to check if a number is prime\n",
    "def isPrime(n):\n",
    "    if n == 2:\n",
    "        return True\n",
    "    \n",
    "    if n%2 == 0:\n",
    "        return False\n",
    "    \n",
    "    for i in range(3, math.ceil(math.sqrt(n))+1, 2):\n",
    "        if n%i == 0:\n",
    "            return False\n",
    "        \n",
    "    return True    "
   ]
  },
  {
   "cell_type": "code",
   "execution_count": 27,
   "metadata": {},
   "outputs": [],
   "source": [
    "#Function to generate a random prime number of rho bits\n",
    "def generatePrime(len=MAX_BITS):\n",
    "    \n",
    "    temp = random.getrandbits(len)\n",
    "    \n",
    "    if len != MAX_BITS:\n",
    "        temp = temp | (1<<(len-1)) \n",
    "    temp |= 1\n",
    "    \n",
    "    while not isPrime(temp):\n",
    "        temp = random.getrandbits(len)\n",
    "        if len != MAX_BITS: \n",
    "            temp = temp | (1<<(len-1)) \n",
    "        temp |= 1\n",
    "    \n",
    "    return temp"
   ]
  },
  {
   "cell_type": "code",
   "execution_count": 28,
   "metadata": {},
   "outputs": [],
   "source": [
    "#Function to find gcd of 'a' and 'b' by Euclid's algorithm\n",
    "def euclidGcd(a, b):\n",
    "    if a == 0:\n",
    "        return (b, 0, 1)\n",
    "    else:\n",
    "        g, y, x = euclidGcd(b % a, a)\n",
    "        return (g, x - (b // a) * y, y)"
   ]
  },
  {
   "cell_type": "code",
   "execution_count": 29,
   "metadata": {},
   "outputs": [],
   "source": [
    "#Function to find multiplicative inverse of 'a' modulo 'm'\n",
    "def moduloInverse(a, m):\n",
    "    g, x, y = euclidGcd(a, m)\n",
    "    if g != 1:\n",
    "        raise Exception('modulo inverse does not exist')\n",
    "    else:\n",
    "        return x % m"
   ]
  },
  {
   "cell_type": "code",
   "execution_count": 30,
   "metadata": {},
   "outputs": [],
   "source": [
    "#Function to check if 'k' is coprime with all elements of array 'arr' \n",
    "def checkCoprimality(k, arr):\n",
    "    for i in range(len(arr)):\n",
    "        if math.gcd(k, arr[i]) != 1:\n",
    "            return False\n",
    "    return True  "
   ]
  },
  {
   "cell_type": "code",
   "execution_count": 31,
   "metadata": {},
   "outputs": [],
   "source": [
    "#Function to calaculate 'a' power 'b' modulo 'n'\n",
    "def powerModN(a, b, n):\n",
    "    if b == 0:\n",
    "        return 1\n",
    "    \n",
    "    temp = powerModN(a, b//2, n)\n",
    "    temp = (temp*temp) % n\n",
    "    if b%2:\n",
    "        temp = (temp*a) %n\n",
    "        \n",
    "    return temp    "
   ]
  },
  {
   "cell_type": "code",
   "execution_count": null,
   "metadata": {},
   "outputs": [],
   "source": [
    "#Function to compute one-way hash of given message 'M', with output of length 'len'\n",
    "def onewayhash(message, len):\n",
    "    hash_object = hashlib.sha1(b'Hello World')\n",
    "    hex_dig = hash_object.digest()"
   ]
  },
  {
   "cell_type": "code",
   "execution_count": 32,
   "metadata": {},
   "outputs": [],
   "source": [
    "p = generatePrime(RHO)\n",
    "q = generatePrime(RHO)\n",
    "\n",
    "while p == q:\n",
    "    q = generatePrime(RHO)\n",
    "    \n",
    "N = p*q\n",
    "\n",
    "phiN = (p-1)*(q-1)"
   ]
  },
  {
   "cell_type": "code",
   "execution_count": 33,
   "metadata": {},
   "outputs": [],
   "source": [
    "pi = [None] * numAttributes\n",
    "qi = [None] * numAttributes\n",
    "\n",
    "for i in range(0, numAttributes):\n",
    "    temp = generatePrime()\n",
    "    \n",
    "    while math.gcd(temp, phiN) != 1:\n",
    "        temp = generatePrime()\n",
    "\n",
    "    pi[i] = temp  \n",
    "    qi[i] = moduloInverse(pi[i], phiN)"
   ]
  },
  {
   "cell_type": "code",
   "execution_count": 34,
   "metadata": {},
   "outputs": [],
   "source": [
    "k = random.getrandbits(MAX_BITS)\n",
    "\n",
    "while math.gcd(k, phiN) != 1 and checkCoprimality(k, qi) == False:\n",
    "    k = random.getrandbits(MAX_BITS)\n",
    "    \n",
    "x = random.getrandbits(MAX_BITS)\n",
    "\n",
    "while checkCoprimality(x, qi) == False:\n",
    "    x = random.getrandbits(MAX_BITS)    "
   ]
  },
  {
   "cell_type": "code",
   "execution_count": 35,
   "metadata": {},
   "outputs": [],
   "source": [
    "g = random.randint(3, N-2)\n",
    "    \n",
    "while math.gcd(temp, N) != 1:\n",
    "    temp = random.randint(3, N-2)"
   ]
  },
  {
   "cell_type": "code",
   "execution_count": 36,
   "metadata": {},
   "outputs": [],
   "source": [
    "dU = 1\n",
    "for i in range(len(qi)):\n",
    "    dU *= qi[i]\n",
    "\n",
    "DU = powerModN(g, dU, N)\n",
    "Y  = powerModN(g,  x, N)\n",
    "R  = powerModN(g,  k, N)"
   ]
  }
 ],
 "metadata": {
  "kernelspec": {
   "display_name": "Python 3",
   "language": "python",
   "name": "python3"
  },
  "language_info": {
   "codemirror_mode": {
    "name": "ipython",
    "version": 3
   },
   "file_extension": ".py",
   "mimetype": "text/x-python",
   "name": "python",
   "nbconvert_exporter": "python",
   "pygments_lexer": "ipython3",
   "version": "3.5.2"
  }
 },
 "nbformat": 4,
 "nbformat_minor": 2
}
